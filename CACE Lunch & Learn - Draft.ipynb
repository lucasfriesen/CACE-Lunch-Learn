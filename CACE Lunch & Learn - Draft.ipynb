{
 "cells": [
  {
   "cell_type": "markdown",
   "metadata": {},
   "source": [
    "# CACE Lunch & Learn - Introduction to Python\n",
    "# October 28, 2019\n",
    "# Lucas Friesen & John Podedworny - CSPO"
   ]
  },
  {
   "cell_type": "markdown",
   "metadata": {},
   "source": [
    "## Part 1: Python Data Structures & Syntax"
   ]
  },
  {
   "cell_type": "markdown",
   "metadata": {},
   "source": [
    "##### Prior to introducing Python's main data structures, a few things to note:\n",
    "   - Python uses zero-based indexing - meaning that objects have indexes beginning at 0.\n",
    "   - Square brackets are typically used to reference or access an object's contents, either by passing the index value or an object-specific value.\n",
    "   - Each object in Python has an associated set of methods, which can be called using 'object.method' - this will make more sense as we move forward.\n",
    "   - Python has built-in functions that can be used - Ex. str(), list(), print(). However mostly all data analysis projects will require additional libraries that can be easily imported. Each library will have it's own functions and methods available."
   ]
  },
  {
   "cell_type": "markdown",
   "metadata": {},
   "source": [
    "### Strings\n",
    "Simply defined by using single, double, or triple quotes, they are used to define a string value that can be called or referenced later in the program. Strings are not mutable, meaning that they cannot be edited once defined."
   ]
  },
  {
   "cell_type": "code",
   "execution_count": null,
   "metadata": {},
   "outputs": [],
   "source": [
    "greeting = \"Hello World\" #define the string 'greeting'\n",
    "print(greeting) #print the greeting\n",
    "print(greeting[0]) #print the first element of the string using python's zero-based indexing\n",
    "\n",
    "#add an exclamation point to the greeting, creating a new string called 'greeting2'\n",
    "greeting2 = greeting + \"!\"\n",
    "print(greeting2)"
   ]
  },
  {
   "cell_type": "markdown",
   "metadata": {},
   "source": [
    "### Lists\n",
    "Lists are a very versatile data structure in Python, frequently used in loops and iterable processes. Lists are defined using a sequence of comma separted values, enclosed by square brackets. Lists are mutable, meaning that you can change individual elements of the list by referencing the index value or the value itself."
   ]
  },
  {
   "cell_type": "code",
   "execution_count": null,
   "metadata": {},
   "outputs": [],
   "source": [
    "sports = ['Hockey', 'Football', 'Basketball', 'Soccer']\n",
    "print(sports)"
   ]
  },
  {
   "cell_type": "markdown",
   "metadata": {},
   "source": [
    "###### You can access individual elements of the list using Python's zero-based indexing. You can also edit elements of the list using this method. This is done by using square brackets after the object, with the index value(s) enclosed.\n",
    "\n",
    "   - a[n:z] -> will return all values of a within index n and z-1 (inclusive of n, not inclusive of z)\n",
    "   - a[n] -> will return the value in a at index n\n",
    "   - a[n:] -> will return all values of a from index n onwards (inclusive)\n",
    "   - a[:n] -> will return all values of a prior to index n (not inclusive)\n",
    "   - a[:] -> will return all values of a"
   ]
  },
  {
   "cell_type": "code",
   "execution_count": null,
   "metadata": {},
   "outputs": [],
   "source": [
    "#print elements with indexes 1-3 (note - and index range exlcudes the endpoint)\n",
    "print(sports[1:4])\n",
    "\n",
    "#we can add a value to the list using list.append(elem) - this adds a value to the end of the list\n",
    "sports.append('Golf')\n",
    "print(sports)\n",
    "\n",
    "#we can also edit the contents of the list, by referencing the index value we wish to change\n",
    "#change 'Football' to 'American Football', and 'Soccer' to 'European Football'\n",
    "sports[1] = 'American Football'\n",
    "sports[3] = 'European Football'\n",
    "print(sports)"
   ]
  },
  {
   "cell_type": "markdown",
   "metadata": {},
   "source": [
    "As mentioned, Lists are also great for iterable processes, such as loops, and can be used to evaluate if-else statements. We'll show a basic loop here, but basically anything can be done for each value in the list, including passing a function, running a model, etc.."
   ]
  },
  {
   "cell_type": "code",
   "execution_count": null,
   "metadata": {},
   "outputs": [],
   "source": [
    "#loop through the list, and print to the output for each value using an if/else statement\n",
    "#set a counter for the loop\n",
    "count = 0\n",
    "for i in sports:\n",
    "    count += 1\n",
    "    if i == 'Hockey': # if the value of i is hockey, let's print 'Go Canada!', and just the list value for any other element\n",
    "        print(str(count) + ' - ' + 'Go Canada!') # the str() method is required when concatenating a number to a string\n",
    "    else:\n",
    "        print(str(count) + ' - ' + i)"
   ]
  },
  {
   "cell_type": "markdown",
   "metadata": {},
   "source": [
    "###### Common methods applicable to lists include:\n",
    "   - append() : add a single value to the list\n",
    "   - extend() : add another list to the list, \"extending\" the list\n",
    "   - insert() : insert a single value to a defined position in the list\n",
    "   - remove() : remove a value etiher by the value itself or by a defined position in the list\n",
    "   - pop() : removes the last item in the list, and stores it in an object\n",
    "   - sort() : sort the values in the list"
   ]
  },
  {
   "cell_type": "markdown",
   "metadata": {},
   "source": [
    "### Dictionaries\n",
    "Python dictionaries are also very powerful tools. They consist of an unordered set of key:value pairs - requiring the keys to be unique within each dictionary. You can create a dictionary by enclosing a set of key:value pairs in braces - {}.\n",
    "\n",
    "You can look at a particular key by using dict['key'], where 'dict' is your dictionary name and 'key' is the key you are looking to view/edit/remove."
   ]
  },
  {
   "cell_type": "code",
   "execution_count": null,
   "metadata": {},
   "outputs": [],
   "source": [
    "#create a favourite_sports dictionary - with sports as keys and integers as the values\n",
    "favourite_sports = {'Hockey': 23, 'Football': 11, 'Basketball': 15, 'Soccer': 9, 'Golf': 4}\n",
    "print(favourite_sports)\n",
    "\n",
    "#print the value of the Football key in the dictionary\n",
    "print(favourite_sports['Football'])\n",
    "\n",
    "#add a key:value pair to the dictionary\n",
    "#Baseball does not exist as a key, so it creates a new one. Using an existing key would change the current value\n",
    "favourite_sports['Baseball'] = 13\n",
    "\n",
    "print(favourite_sports)"
   ]
  },
  {
   "cell_type": "markdown",
   "metadata": {},
   "source": [
    "#### Dictionaries can also consist of nested objects, with lists or dictionaries of more key:value pairs as the value in the main dictionary. For example, consumer data with the highest-level keys being user id's, and each user id having an associated dictionary with keys corresponding to additional consumer information (name, account number, birthdate, phone number)."
   ]
  },
  {
   "cell_type": "markdown",
   "metadata": {},
   "source": [
    "### Dataframes\n",
    "Dataframes is exactly what it says it is - a dataframe. It is similar to an Excel workbook or SAS table - consisting of column names with rows of observations, that are each numbered for reference as row and column indexes.\n",
    "\n",
    "There are a few different libraries that use dataframes - but the main library we will focus on is Pandas, one of the most commonly used data analysis libraries available in Python."
   ]
  },
  {
   "cell_type": "code",
   "execution_count": null,
   "metadata": {},
   "outputs": [],
   "source": [
    "#import the Pandas library (must have it installed on machine)\n",
    "import pandas as pd\n",
    "\n",
    "#create basic dataframe\n",
    "#Pandas dataframes are easily created from scratch using a dictionary-style set of key:value pairs, \n",
    "#where each key is a column name, and the values are lists of observations\n",
    "\n",
    "#define a dictionary of data\n",
    "data  = {'integer': [1, 2, 3, 4, 5, 6],\n",
    "         'float': [1.1, 1.3, 1.5, 1.7, 1.9, 2.1],\n",
    "         'boolean': [True, True, True, False, True, False],\n",
    "         'string': ['a', 'b', 'c', 'd', 'e', 'f']}\n",
    "\n",
    "df = pd.DataFrame(data)\n",
    "\n",
    "df"
   ]
  },
  {
   "cell_type": "markdown",
   "metadata": {},
   "source": [
    "#### Dataframes can be created in an number of different ways - through the above dictionary definition, or through Pandas methods for reading data files - such as read_csv(), read_excel(), read_sas(), read_json(), read_sql(), etc.."
   ]
  },
  {
   "cell_type": "markdown",
   "metadata": {},
   "source": [
    "## Part 2: Data Exploration"
   ]
  },
  {
   "cell_type": "markdown",
   "metadata": {},
   "source": [
    "#### Let's now load in a sample dataset and begin to explore how we can interact with and analyze some data."
   ]
  },
  {
   "cell_type": "code",
   "execution_count": null,
   "metadata": {
    "scrolled": true
   },
   "outputs": [],
   "source": [
    "#import our libraries - just one time per program for each library, and it is good practice to start a program with this\n",
    "\n",
    "import pandas as pd #data organization and manipulation\n",
    "import numpy as np #scientific computing and mathematical functions\n",
    "import matplotlib.pyplot as plt #plotting and visualization\n",
    "import seaborn as sns #advanced plotting and visualization built on matplotlib"
   ]
  },
  {
   "cell_type": "code",
   "execution_count": null,
   "metadata": {},
   "outputs": [],
   "source": [
    "#import our dataset with the name df, from our CSV file\n",
    "df = pd.read_csv('E:/CACE/CSPO//3. Reference/Python Lunch & Learn/nhl_stats.csv')\n",
    "\n",
    "#df = df.drop(labels=['Unnamed: 0'], axis=1)\n",
    "#df['season'] = df['season'].str.split('-').str[1].astype(int)\n",
    "#df['count'] = df['team'].str.count('/')\n",
    "#df = df[df['team'].str.count('/')<2]\n",
    "#df['team'] = df['team'].str.split('/').str[0]\n",
    "#df.head(10)\n",
    "#df.to_csv('E:/CACE/CSPO//3. Reference/Python Lunch & Learn/nhl_stats.csv', index=False)"
   ]
  },
  {
   "cell_type": "code",
   "execution_count": null,
   "metadata": {},
   "outputs": [],
   "source": [
    "#take a quick look at the data using some simple, handy Pandas methods\n",
    "#len() returns the length of the object\n",
    "\n",
    "print('Length of Dataset: ' + str(len(df)))"
   ]
  },
  {
   "cell_type": "code",
   "execution_count": null,
   "metadata": {},
   "outputs": [],
   "source": [
    "#.head(n) returns the first n rows of the dataset \n",
    "#default is n=5\n",
    "\n",
    "df.head(10)\n",
    "\n",
    "# SQL EQUIVALENT: SELECT * FROM DF LIMIT 10"
   ]
  },
  {
   "cell_type": "code",
   "execution_count": null,
   "metadata": {},
   "outputs": [],
   "source": [
    "#.tail(n) returns the last n rows of the dataset\n",
    "\n",
    "df.tail(10)"
   ]
  },
  {
   "cell_type": "code",
   "execution_count": null,
   "metadata": {},
   "outputs": [],
   "source": [
    "#call .info() to see a summary of the dataframe\n",
    "\n",
    "df.info()"
   ]
  },
  {
   "cell_type": "code",
   "execution_count": null,
   "metadata": {},
   "outputs": [],
   "source": [
    "#call the .describe() method to return descriptive statistics for each numeric variable in the dataset\n",
    "#we can also specify a specific column, which will return only the statistics for that column\n",
    "\n",
    "df.describe()"
   ]
  },
  {
   "cell_type": "markdown",
   "metadata": {},
   "source": [
    "#### .describe() summarizes our numeric variables. \n",
    "We can use .value_counts() to better summarize a discrete, categorical variable.\n",
    "\n",
    "Note that this method requires us to specify a series (a Pandas dataframe column) for which to apply the method.\n",
    "\n",
    "Also note that df['columnname'] is an indexing technique for accessing particular columns. Rows can be accessed using the zero-based indexing that Python uses."
   ]
  },
  {
   "cell_type": "code",
   "execution_count": null,
   "metadata": {},
   "outputs": [],
   "source": [
    "df['season'].value_counts()\n",
    "\n",
    "# SQL EQUIVALENT: SELECT SEASON, COUNT(*) FROM DF GROUP BY SEASON"
   ]
  },
  {
   "cell_type": "code",
   "execution_count": null,
   "metadata": {},
   "outputs": [],
   "source": [
    "df['position'].value_counts()"
   ]
  },
  {
   "cell_type": "markdown",
   "metadata": {},
   "source": [
    "#### Let's create a few new variables in our dataset. Based on our brief exploration, there are a few columns we can create based on the contents of other columns.\n",
    "\n",
    "###### We will create:\n",
    " - first_name\n",
    " - last_name\n",
    " - toi_game\n",
    " - position_group"
   ]
  },
  {
   "cell_type": "markdown",
   "metadata": {},
   "source": [
    "#### First, let's create first_name and last_name columns, by splitting the player column\n",
    "\n",
    "#### We can see that the player variable uses a '.' as a delimiter"
   ]
  },
  {
   "cell_type": "code",
   "execution_count": null,
   "metadata": {},
   "outputs": [],
   "source": [
    "#the .split() method allows us to split a string by a delimiter\n",
    "\n",
    "df['first_name'] = df['player'].str.split('.').str[0] \n",
    "#the split function returns an array with the string split, so we reference the value in that array that applies \n",
    "df['last_name'] = df['player'].str.split('.').str[1]\n",
    "\n",
    "df.head()"
   ]
  },
  {
   "cell_type": "markdown",
   "metadata": {},
   "source": [
    "#### We can also simply create a variable using the contents of two (or more) other variables\n",
    "\n",
    "In this case, we can take the toi (time on ice) variable and divide it by the number of games played to get the Average Time on Ice per game for each player.\n",
    "\n",
    "We can also determine the total number of shots each player took, using their iSh% and the number of goals they scored."
   ]
  },
  {
   "cell_type": "code",
   "execution_count": null,
   "metadata": {},
   "outputs": [],
   "source": [
    "df['toi_game'] = df['toi'] / df['games_played'] #total time on ice in minutes divided by games played\n",
    "# SQL EQUIVALENT : SELECT *, TOI/GAMES_PLAYED AS TOI_GAME FROM DF\n",
    "\n",
    "df['shots_taken'] = round(df['goals'] / (df['iSh%']/100)) #goals scored divided by shooting percentage\n",
    "df['shots_taken'].fillna(0, inplace=True) #fill null values with zero - these are players who have iSh% of zero\n",
    "df['shots_taken'] = df['shots_taken'].astype(int) #convert shots_taken to an integer value (cannot have fractions of a shot)\n",
    "\n",
    "df.head(10)"
   ]
  },
  {
   "cell_type": "code",
   "execution_count": null,
   "metadata": {},
   "outputs": [],
   "source": [
    "df.describe()"
   ]
  },
  {
   "cell_type": "markdown",
   "metadata": {},
   "source": [
    "#### Another useful method of creating a variable is using a Python function. Functions are named blocks of code that are designed to do a particular task. They are useful when performing the same process multiple times throughout a program. They allow you the ability to pass specific information to the function in order to perform the tasks.\n",
    "\n",
    "In this case, we will look at creating a generic function to classify players into position groups."
   ]
  },
  {
   "cell_type": "code",
   "execution_count": null,
   "metadata": {},
   "outputs": [],
   "source": [
    "#function definition\n",
    "\n",
    "def define_position(row):  #def indicates we are defining a function. define_position is the function name \n",
    "                           #we specify 'row' because the method we are using passes the dataframe's row to the function\n",
    "                           #these can also be referred to as Parameters of the function\n",
    "    \n",
    "    #we now use if/elif/else statements to determine value to return\n",
    "    #using 'return' specifies that the function will send back a value or values to the line that called the function\n",
    "    #in this case, the function has been provided 'row', which is object with the row's values within\n",
    "    #the function looks for the position value, and we do our test against the value to determine our return value\n",
    "    \n",
    "    if row['position']=='C':\n",
    "        return 'Center'\n",
    "    elif row['position']=='L' or row['position']=='R':\n",
    "        return 'Wing'\n",
    "    elif row['position']=='D':\n",
    "        return 'Defense'"
   ]
  },
  {
   "cell_type": "code",
   "execution_count": null,
   "metadata": {},
   "outputs": [],
   "source": [
    "#we now call our function, inside of the dataframe.apply() method\n",
    "#dataframe.apply() allows us to apply a function to the dataset\n",
    "#we first define the function to apply, and then which axis to apply it to\n",
    "#axis=0 means to apply the function to each column, down the rows\n",
    "#axis=1 means to apply the function to each row, across the columns\n",
    "    #NOTE: this is why we specify 'row' in the function - axis=1 means we apply the function to each row\n",
    "    \n",
    "df['position_group'] = df.apply(define_position, axis=1)\n",
    "\n",
    "df.head()"
   ]
  },
  {
   "cell_type": "markdown",
   "metadata": {},
   "source": [
    "#### We can order our columns using the column names in square brackets.\n",
    "#### We are also able to select which columns to keep here - exlcuding them from the list will drop them from the dataframe."
   ]
  },
  {
   "cell_type": "code",
   "execution_count": null,
   "metadata": {},
   "outputs": [],
   "source": [
    "df = df[['player', 'first_name', 'last_name', 'season', 'team', 'position_group', 'position', 'games_played', 'toi','toi_game', \n",
    "   'goals', 'assists', 'points','points_60', 'points1', 'points1_60', 'shots_taken', 'iSh%']]\n",
    "\n",
    "df.head()\n",
    "\n",
    "# SQL EQUIVALENT : SELECT player, first_name, last_name, season, team, position_group, position, games_played, toi, toi_game,\n",
    "#                         goals, assists, points, points_60, points1, points1_60, shots_taken, iSh% FROM df LIMIT 5"
   ]
  },
  {
   "cell_type": "markdown",
   "metadata": {},
   "source": [
    "#### Now that we have examined the data and created a few new columns, let's dive into an analysis on the data."
   ]
  },
  {
   "cell_type": "markdown",
   "metadata": {},
   "source": [
    "## 3. Data Analysis"
   ]
  },
  {
   "cell_type": "markdown",
   "metadata": {},
   "source": [
    "#### Let's take a deeper look at some of our variables, to see how they are distributed and if we can identify any trends or areas for analysis."
   ]
  },
  {
   "cell_type": "code",
   "execution_count": null,
   "metadata": {},
   "outputs": [],
   "source": [
    "df['position_group'].value_counts()"
   ]
  },
  {
   "cell_type": "markdown",
   "metadata": {},
   "source": [
    "#### Pandas has basic built-in plotting capabilities.\n",
    "#### Taking a series or dataframe, we can easily create a plot by calling the .plot() method.\n",
    "#### In this case, we take our value_counts() series created above and create a horizontal bar plot.\n",
    "\n",
    "Each Pandas data column is a 'series' in their own right, concatenated together to form a dataframe.\n",
    "So this method can be called by specifying a dataframe's column as well."
   ]
  },
  {
   "cell_type": "code",
   "execution_count": null,
   "metadata": {},
   "outputs": [],
   "source": [
    "df['position_group'].value_counts().plot(kind='barh')"
   ]
  },
  {
   "cell_type": "markdown",
   "metadata": {},
   "source": [
    "###### We can easily look visually at the distribution of some of our continuous/numeric variables using the built-in plotting methods as well.\n",
    "\n",
    ".hist() and .boxplot() create column-wise distribution analyses."
   ]
  },
  {
   "cell_type": "markdown",
   "metadata": {},
   "source": [
    "###### series.hist() displays a histogram of that series."
   ]
  },
  {
   "cell_type": "code",
   "execution_count": null,
   "metadata": {},
   "outputs": [],
   "source": [
    "df['points_60'].hist(bins=25)"
   ]
  },
  {
   "cell_type": "markdown",
   "metadata": {},
   "source": [
    "###### Dataframe.boxplot() displays a boxplot of the column specified, with any other parameters that may apply."
   ]
  },
  {
   "cell_type": "code",
   "execution_count": null,
   "metadata": {},
   "outputs": [],
   "source": [
    "df.boxplot(column='points_60')"
   ]
  },
  {
   "cell_type": "markdown",
   "metadata": {},
   "source": [
    "##### These methods also allow for a by variable to group by and evaluate distributional properties.\n",
    "\n",
    "Let's look at points_60 across the different position_group values we created.\n",
    "Scoring rates for players vary based on their position."
   ]
  },
  {
   "cell_type": "code",
   "execution_count": null,
   "metadata": {},
   "outputs": [],
   "source": [
    "df.boxplot(column='points_60', by='position_group', figsize=(8,6)) \n",
    "\n",
    "# I use the figsize parameter here to make the plot slightly larger and easier to view -> figsize = (width, height)"
   ]
  },
  {
   "cell_type": "markdown",
   "metadata": {},
   "source": [
    "#### We can clearly see here that a difference in our analysis variable exists across these groups. Let's add another applicable group, and view histograms of the data groups.\n",
    "\n",
    "Season may also add some context to player performance - overall trends may exist in scoring season-over-season"
   ]
  },
  {
   "cell_type": "code",
   "execution_count": null,
   "metadata": {},
   "outputs": [],
   "source": [
    "df.hist(column='points_60', by=['position_group', 'season'], figsize=(18,9), layout=(3,4))"
   ]
  },
  {
   "cell_type": "markdown",
   "metadata": {},
   "source": [
    "The histograms displayed clearly illustrate the distributional properties of our groups. We can easily look at additional variables across groups of our choosing easily using the .hist() or .boxplot() method, combined with matplotlib and the formatting available in that library."
   ]
  },
  {
   "cell_type": "markdown",
   "metadata": {},
   "source": [
    "#### Let's now look at analyzing our data across the groups that we have been using above.\n",
    "\n",
    "The Groupby method of a Pandas dataframe allows us to perform calculations and aggregations across groups of variable values - this is very similar to using Group By and Aggregate function in a SQL statement.\n",
    "\n",
    "First, we specify a column or a list of columns from the dataframe to group by [position_group, season].\n",
    "\n",
    "Next, we specify the column(s) to analyze in the group [points_60], along then specify a method for analyzing - .mean(). We could also use .median(), .count(), or .agg() based on our analysis"
   ]
  },
  {
   "cell_type": "code",
   "execution_count": null,
   "metadata": {},
   "outputs": [],
   "source": [
    "pos_avgs = df.groupby(['position_group', 'season'], as_index=False)['points_60'].mean()\n",
    "#I use as_index=False so that the by columns are represented as columns, and not as our index\n",
    "#Specifying this as a new object returns a dataframe.\n",
    "\n",
    "# SQL EQUIVALENT : SELECT position_group, season, mean(points_60) FROM df GROUP BY position_group, season\n",
    "\n",
    "pos_avgs"
   ]
  },
  {
   "cell_type": "markdown",
   "metadata": {},
   "source": [
    "###### We can then join this averages table with our full player dataset using the common variables (our group by variables)."
   ]
  },
  {
   "cell_type": "code",
   "execution_count": null,
   "metadata": {},
   "outputs": [],
   "source": [
    "#first, rename the average column so we can identify it in the full dataset\n",
    "pos_avgs = pos_avgs.rename(columns={'points_60':'points_60_avg'})"
   ]
  },
  {
   "cell_type": "markdown",
   "metadata": {},
   "source": [
    "#### .merge() method of a dataframe : takes the dataframe, and merges with another based on parameters provided\n",
    "- left : one dataframe to use in the merge.\n",
    "- right : the other dataframe to use in the merge.\n",
    "- on : columns to join on. These must be found in both dataframes in order to use 'on'. Else, use 'left_on' and 'right_on' for the similar key.\n",
    "- how : specifies the join method - left, right, outer, inner - similar to SQL-type joins.\n",
    "\n",
    "#### In this case, we will create a new dataframe (df2) from the df and pos_avgs dataframes, merging on position_group and season using a left join (keeping all rows from df)."
   ]
  },
  {
   "cell_type": "code",
   "execution_count": null,
   "metadata": {},
   "outputs": [],
   "source": [
    "df2 = pd.merge(left=df, right=pos_avgs, on=['position_group', 'season'], how='left')\n",
    "\n",
    "# SQL EQUIVALENT : SELECT * FROM df LEFT JOIN pos_avgs ON position_group, season\n",
    "\n",
    "df2.head(10)"
   ]
  },
  {
   "cell_type": "code",
   "execution_count": null,
   "metadata": {},
   "outputs": [],
   "source": [
    "df2['rel_p60'] = df2['points_60'] - df2['points_60_avg']\n",
    "\n",
    "df2[df2['player']=='MITCH.MARNER'][['player', 'season', 'rel_p60']].sort_values('rel_p60', ascending=False)\n",
    "\n",
    "# SQL EQUIVALENT : SELECT player, season, (points_60-points_60_avg) as rel_p60 FROM df2 \n",
    "#                  WHERE player = 'MITCH.MARNER' ORDER BY season desc"
   ]
  },
  {
   "cell_type": "markdown",
   "metadata": {},
   "source": [
    "#### Now, let's take a look at the distribution of our new 'rel_p60' variable.\n",
    "\n",
    "We should see traits of a normal distribution now that every player's performance level has been normalized."
   ]
  },
  {
   "cell_type": "code",
   "execution_count": null,
   "metadata": {},
   "outputs": [],
   "source": [
    "df2['rel_p60'].hist(bins=25)"
   ]
  },
  {
   "cell_type": "code",
   "execution_count": null,
   "metadata": {},
   "outputs": [],
   "source": [
    "df2.hist(column='rel_p60', by=['season'], figsize=(12,6), bins=25)"
   ]
  },
  {
   "cell_type": "markdown",
   "metadata": {},
   "source": [
    "#### Let's create a function where we can subset the data by team name and create plots from that data subset."
   ]
  },
  {
   "cell_type": "code",
   "execution_count": null,
   "metadata": {},
   "outputs": [],
   "source": [
    "def create_team_plot(team, df):\n",
    "    \"\"\"\n",
    "    Creates a Seaborn Violin Plot of a team's Relative Points/60 Distribution across each season. \n",
    "    \n",
    "    Parameters:\n",
    "        team: team abbreviation from the NHL stats dataset.\n",
    "        df: Pandas dataframe of individual player statistics.\n",
    "    \n",
    "    Dependencies:\n",
    "        matplotlib.pyplot\n",
    "        seaborn\n",
    "    \"\"\"\n",
    "    \n",
    "    #create a temp dataset, based on the team passed in the function\n",
    "    \n",
    "    temp = df[df['team']==team]\n",
    "    \n",
    "    # SQL EQUIVALENT : SELECT * FROM df WHERE team = team\n",
    "    \n",
    "    #Initialize Figure and Axes objects - specifying the size here\n",
    "    #This creates these Matplotlib objects, fig and ax\n",
    "    #fig is a Figure Object, which contains all the plot elements\n",
    "    #ax is an Axes object, which we use with Seaborn to specify the plotting axes for our plot\n",
    "    \n",
    "    fig, ax = plt.subplots(figsize=(12,8))\n",
    "    \n",
    "    #Set some options for our seaborn plots\n",
    "    #style sets the plot style\n",
    "    #palette defines the color palette for plotting\n",
    "    #we use some built-in Seaborn options\n",
    "    \n",
    "    sns.set(style=\"dark\", palette=\"muted\")\n",
    "    \n",
    "    #from this temp dataset, let's create a violin plot by season, displaying the distribution of rel_p60 for that team\n",
    "    #we specify the data source, the x array, the y array, and the axes for which to plot it on\n",
    "    #we already created ax with the dimensions to make the plot look nice\n",
    "    \n",
    "    sns.violinplot(data=temp, x='season', y='rel_p60', ax=ax, linewidth=3)\n",
    "    \n",
    "    #now let's specify some options for our plot's axes and appearance\n",
    "    #a lot of options available - full documentation: https://matplotlib.org/3.1.0/api/axes_api.html\n",
    "    \n",
    "    #specify the plot's title as the team name\n",
    "    \n",
    "    ax.set_title(team)\n",
    "    \n",
    "    #set labels for the axes\n",
    "    \n",
    "    ax.set_xlabel('Season')\n",
    "    ax.set_ylabel('Relative Points/60')\n",
    "    \n",
    "    #set the bounds of our y-axis, so that all plots are on the same scale\n",
    "    #I derive these from the above histogram of rel_p60 across the entire group\n",
    "    \n",
    "    ax.set_ybound(lower=-2.5, upper=3.5)\n",
    "    \n",
    "    #format our gridlines as dashed lines - for visual purposes\n",
    "    \n",
    "    ax.grid( axis='y', linestyle='--')\n",
    "    \n",
    "    #save the plot to a file for reference\n",
    "    \n",
    "    plt.savefig('E:/CACE/CSPO//3. Reference/Python Lunch & Learn/plots/' + team + '.png')\n",
    "    \n",
    "    #show the plot - this will print/show the plot in the Python console each time the function is called\n",
    "    \n",
    "    plt.show()"
   ]
  },
  {
   "cell_type": "code",
   "execution_count": null,
   "metadata": {},
   "outputs": [],
   "source": [
    "#Now let's call the function. We call the function using create_team_plot(), specifying the team and DataFrame to use\n",
    "\n",
    "create_team_plot('TOR', df2)"
   ]
  },
  {
   "cell_type": "code",
   "execution_count": null,
   "metadata": {},
   "outputs": [],
   "source": [
    "#put team names in a list, and sort them\n",
    "#unique() gets unique values in the series\n",
    "#tolist() puts this series into a list object\n",
    "#enclosing this all in sorted() sorts the list alphabetically\n",
    "\n",
    "teams = sorted(df2['team'].unique().tolist())\n",
    "print(teams)\n",
    "\n",
    "#SQL EQUIVALENT : SELECT distinct team FROM df2 ORDER BY team"
   ]
  },
  {
   "cell_type": "code",
   "execution_count": null,
   "metadata": {},
   "outputs": [],
   "source": [
    "#loop through the list of team, and call the create_team_plot function for each team\n",
    "#this will create, save, and show each team's plot\n",
    "\n",
    "for team in teams:\n",
    "    create_team_plot(team, df2)"
   ]
  }
 ],
 "metadata": {
  "kernelspec": {
   "display_name": "Python 3",
   "language": "python",
   "name": "python3"
  },
  "language_info": {
   "codemirror_mode": {
    "name": "ipython",
    "version": 3
   },
   "file_extension": ".py",
   "mimetype": "text/x-python",
   "name": "python",
   "nbconvert_exporter": "python",
   "pygments_lexer": "ipython3",
   "version": "3.7.3"
  }
 },
 "nbformat": 4,
 "nbformat_minor": 2
}
